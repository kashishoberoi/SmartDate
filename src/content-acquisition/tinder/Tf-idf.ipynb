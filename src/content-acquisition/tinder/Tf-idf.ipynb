{
 "cells": [
  {
   "cell_type": "code",
   "execution_count": 1,
   "metadata": {},
   "outputs": [],
   "source": [
    "import json\n",
    "import spacy\n",
    "import yaml\n",
    "import os\n",
    "import operator\n",
    "import copy\n",
    "from spacy.vocab import Vocab\n",
    "import nltk\n",
    "from nltk.corpus import stopwords\n",
    "from sklearn.feature_extraction.text import TfidfVectorizer\n",
    "import pandas as pd"
   ]
  },
  {
   "cell_type": "code",
   "execution_count": 2,
   "metadata": {},
   "outputs": [],
   "source": [
    "def import_bios(path):\n",
    "    ids = []\n",
    "    bio = []\n",
    "    json_files = [pos_json for pos_json in os.listdir(path) if pos_json.endswith('.json')]\n",
    "    for i in json_files:\n",
    "        with open(path+i) as fp:  \n",
    "            temp = json.load(fp)\n",
    "            i = [i['_id'] for i in temp['results'] if i.get('bio')]\n",
    "            b = [i.get('bio') for i in temp['results'] if i.get('bio')]\n",
    "        ids+=i;\n",
    "        bio+=b\n",
    "    return ids,bio"
   ]
  },
  {
   "cell_type": "code",
   "execution_count": 4,
   "metadata": {},
   "outputs": [
    {
     "data": {
      "text/html": [
       "<div>\n",
       "<style scoped>\n",
       "    .dataframe tbody tr th:only-of-type {\n",
       "        vertical-align: middle;\n",
       "    }\n",
       "\n",
       "    .dataframe tbody tr th {\n",
       "        vertical-align: top;\n",
       "    }\n",
       "\n",
       "    .dataframe thead th {\n",
       "        text-align: right;\n",
       "    }\n",
       "</style>\n",
       "<table border=\"1\" class=\"dataframe\">\n",
       "  <thead>\n",
       "    <tr style=\"text-align: right;\">\n",
       "      <th></th>\n",
       "      <th>ID</th>\n",
       "      <th>Bio</th>\n",
       "    </tr>\n",
       "  </thead>\n",
       "  <tbody>\n",
       "    <tr>\n",
       "      <th>0</th>\n",
       "      <td>59659967fa14850173b0a87c</td>\n",
       "      <td>well i took 3 different buzzfeed quizzes and t...</td>\n",
       "    </tr>\n",
       "    <tr>\n",
       "      <th>1</th>\n",
       "      <td>5ac27b2fe3fdb7f9234fd14b</td>\n",
       "      <td>if you can hold a conversation you can have my...</td>\n",
       "    </tr>\n",
       "    <tr>\n",
       "      <th>2</th>\n",
       "      <td>5ccfb8205a93401500a51dc3</td>\n",
       "      <td>The one with the freckle</td>\n",
       "    </tr>\n",
       "    <tr>\n",
       "      <th>3</th>\n",
       "      <td>5ce0915013775b1f004b6f83</td>\n",
       "      <td>5’2” if it matters</td>\n",
       "    </tr>\n",
       "    <tr>\n",
       "      <th>4</th>\n",
       "      <td>5cac0583f8db7516001eaf48</td>\n",
       "      <td>Looks are a generous 7/10 but personality is a...</td>\n",
       "    </tr>\n",
       "  </tbody>\n",
       "</table>\n",
       "</div>"
      ],
      "text/plain": [
       "                         ID                                                Bio\n",
       "0  59659967fa14850173b0a87c  well i took 3 different buzzfeed quizzes and t...\n",
       "1  5ac27b2fe3fdb7f9234fd14b  if you can hold a conversation you can have my...\n",
       "2  5ccfb8205a93401500a51dc3                           The one with the freckle\n",
       "3  5ce0915013775b1f004b6f83                                 5’2” if it matters\n",
       "4  5cac0583f8db7516001eaf48  Looks are a generous 7/10 but personality is a..."
      ]
     },
     "execution_count": 4,
     "metadata": {},
     "output_type": "execute_result"
    }
   ],
   "source": [
    "# with open('../../../config/tinder.yaml', 'r') as ymlfile:\n",
    "#         cfg = yaml.load(ymlfile)\n",
    "#         path = cfg['output_folder']+'tinder/'+cfg['city']+'/'\n",
    "#         json_files = [pos_json for pos_json in os.listdir(path) if pos_json.endswith('.json')]\n",
    "#         data_path = ('../../../output/data')\n",
    "#         if not os.path.exists(data_path):\n",
    "#                 os.mkdir(data_path)\n",
    "path = '/home/pallavi/data/'\n",
    "ids,bios = import_bios(path)\n",
    "df = pd.DataFrame(list(zip(ids, bios)), columns =['ID', 'Bio']) \n",
    "df.head()"
   ]
  },
  {
   "cell_type": "code",
   "execution_count": 5,
   "metadata": {},
   "outputs": [
    {
     "data": {
      "text/plain": [
       "2070"
      ]
     },
     "execution_count": 5,
     "metadata": {},
     "output_type": "execute_result"
    }
   ],
   "source": [
    "len(df)"
   ]
  },
  {
   "cell_type": "code",
   "execution_count": 6,
   "metadata": {},
   "outputs": [],
   "source": [
    "def lemma_sw_dict(bios):\n",
    "    nlp = spacy.load('en')\n",
    "    words = set(nltk.corpus.words.words())\n",
    "    stop_words = set(stopwords.words('english'))\n",
    "    clean = bios\n",
    "    for i, doc in enumerate(clean):\n",
    "        doc = nlp(doc)\n",
    "        clean[i] = \" \".join([token.lemma_ for token in doc if (str(token.lemma_) in words and str(token.lemma_) not in stop_words)])\n",
    "    df['cleaned_bio'] = clean"
   ]
  },
  {
   "cell_type": "code",
   "execution_count": 7,
   "metadata": {},
   "outputs": [
    {
     "data": {
      "text/html": [
       "<div>\n",
       "<style scoped>\n",
       "    .dataframe tbody tr th:only-of-type {\n",
       "        vertical-align: middle;\n",
       "    }\n",
       "\n",
       "    .dataframe tbody tr th {\n",
       "        vertical-align: top;\n",
       "    }\n",
       "\n",
       "    .dataframe thead th {\n",
       "        text-align: right;\n",
       "    }\n",
       "</style>\n",
       "<table border=\"1\" class=\"dataframe\">\n",
       "  <thead>\n",
       "    <tr style=\"text-align: right;\">\n",
       "      <th></th>\n",
       "      <th>ID</th>\n",
       "      <th>Bio</th>\n",
       "      <th>cleaned_bio</th>\n",
       "    </tr>\n",
       "  </thead>\n",
       "  <tbody>\n",
       "    <tr>\n",
       "      <th>0</th>\n",
       "      <td>59659967fa14850173b0a87c</td>\n",
       "      <td>well i took 3 different buzzfeed quizzes and t...</td>\n",
       "      <td>well take different quiz say go find love year...</td>\n",
       "    </tr>\n",
       "    <tr>\n",
       "      <th>1</th>\n",
       "      <td>5ac27b2fe3fdb7f9234fd14b</td>\n",
       "      <td>if you can hold a conversation you can have my...</td>\n",
       "      <td>hold conversation snap</td>\n",
       "    </tr>\n",
       "    <tr>\n",
       "      <th>2</th>\n",
       "      <td>5ccfb8205a93401500a51dc3</td>\n",
       "      <td>The one with the freckle</td>\n",
       "      <td>one freckle</td>\n",
       "    </tr>\n",
       "    <tr>\n",
       "      <th>3</th>\n",
       "      <td>5ce0915013775b1f004b6f83</td>\n",
       "      <td>5’2” if it matters</td>\n",
       "      <td>matter</td>\n",
       "    </tr>\n",
       "    <tr>\n",
       "      <th>4</th>\n",
       "      <td>5cac0583f8db7516001eaf48</td>\n",
       "      <td>Looks are a generous 7/10 but personality is a...</td>\n",
       "      <td>look generous personality solid sure</td>\n",
       "    </tr>\n",
       "  </tbody>\n",
       "</table>\n",
       "</div>"
      ],
      "text/plain": [
       "                         ID  \\\n",
       "0  59659967fa14850173b0a87c   \n",
       "1  5ac27b2fe3fdb7f9234fd14b   \n",
       "2  5ccfb8205a93401500a51dc3   \n",
       "3  5ce0915013775b1f004b6f83   \n",
       "4  5cac0583f8db7516001eaf48   \n",
       "\n",
       "                                                 Bio  \\\n",
       "0  well i took 3 different buzzfeed quizzes and t...   \n",
       "1  if you can hold a conversation you can have my...   \n",
       "2                           The one with the freckle   \n",
       "3                                 5’2” if it matters   \n",
       "4  Looks are a generous 7/10 but personality is a...   \n",
       "\n",
       "                                         cleaned_bio  \n",
       "0  well take different quiz say go find love year...  \n",
       "1                             hold conversation snap  \n",
       "2                                        one freckle  \n",
       "3                                             matter  \n",
       "4               look generous personality solid sure  "
      ]
     },
     "execution_count": 7,
     "metadata": {},
     "output_type": "execute_result"
    }
   ],
   "source": [
    "lemma_sw_dict(bios)\n",
    "df.head()"
   ]
  },
  {
   "cell_type": "code",
   "execution_count": 8,
   "metadata": {},
   "outputs": [],
   "source": [
    "def tfidf(bios):\n",
    "    vectorizer = TfidfVectorizer(smooth_idf= True)\n",
    "    X = vectorizer.fit_transform(bios)\n",
    "    feature_names = vectorizer.get_feature_names()\n",
    "    vec = X.toarray()\n",
    "    return vec,feature_names"
   ]
  },
  {
   "cell_type": "code",
   "execution_count": 9,
   "metadata": {},
   "outputs": [],
   "source": [
    "vector,features=tfidf(bios)"
   ]
  },
  {
   "cell_type": "code",
   "execution_count": 10,
   "metadata": {},
   "outputs": [],
   "source": [
    "def tf_idf_score(vec):\n",
    "    score = []\n",
    "    for i in vec:\n",
    "        score.append(sum(i)/len(i))\n",
    "    return score"
   ]
  },
  {
   "cell_type": "code",
   "execution_count": 11,
   "metadata": {},
   "outputs": [],
   "source": [
    "df['scores'] = tf_idf_score(vector)"
   ]
  },
  {
   "cell_type": "code",
   "execution_count": 12,
   "metadata": {},
   "outputs": [
    {
     "data": {
      "text/html": [
       "<div>\n",
       "<style scoped>\n",
       "    .dataframe tbody tr th:only-of-type {\n",
       "        vertical-align: middle;\n",
       "    }\n",
       "\n",
       "    .dataframe tbody tr th {\n",
       "        vertical-align: top;\n",
       "    }\n",
       "\n",
       "    .dataframe thead th {\n",
       "        text-align: right;\n",
       "    }\n",
       "</style>\n",
       "<table border=\"1\" class=\"dataframe\">\n",
       "  <thead>\n",
       "    <tr style=\"text-align: right;\">\n",
       "      <th></th>\n",
       "      <th>ID</th>\n",
       "      <th>Bio</th>\n",
       "      <th>cleaned_bio</th>\n",
       "      <th>scores</th>\n",
       "    </tr>\n",
       "  </thead>\n",
       "  <tbody>\n",
       "    <tr>\n",
       "      <th>1551</th>\n",
       "      <td>5cc1565caa97e51500ace05b</td>\n",
       "      <td>Truths about me, if you care\\nIf we matched, I...</td>\n",
       "      <td>truth care match likely message snap often bad...</td>\n",
       "      <td>0.001916</td>\n",
       "    </tr>\n",
       "    <tr>\n",
       "      <th>39</th>\n",
       "      <td>5988d759b33bbdbd4ba33d12</td>\n",
       "      <td>Boston native\\n\\nLooking for witty banter and ...</td>\n",
       "      <td>Boston native look witty banter black coffee g...</td>\n",
       "      <td>0.001889</td>\n",
       "    </tr>\n",
       "    <tr>\n",
       "      <th>367</th>\n",
       "      <td>5cbdfaa4654fa015008a0cf2</td>\n",
       "      <td>Love practicing hot yoga and testing new recip...</td>\n",
       "      <td>love practice hot yoga test new recipe nutriti...</td>\n",
       "      <td>0.001875</td>\n",
       "    </tr>\n",
       "    <tr>\n",
       "      <th>1740</th>\n",
       "      <td>55fdc1bb4a5adedc5624892e</td>\n",
       "      <td>You know what they say about guys with big soc...</td>\n",
       "      <td>know say guy big sock even big heart definitel...</td>\n",
       "      <td>0.001851</td>\n",
       "    </tr>\n",
       "    <tr>\n",
       "      <th>1598</th>\n",
       "      <td>5c6374a22512fa110071c370</td>\n",
       "      <td>Jewish boy from New York\\nUniversity of Washin...</td>\n",
       "      <td>boy Washington animal nature food booze live m...</td>\n",
       "      <td>0.001815</td>\n",
       "    </tr>\n",
       "  </tbody>\n",
       "</table>\n",
       "</div>"
      ],
      "text/plain": [
       "                            ID  \\\n",
       "1551  5cc1565caa97e51500ace05b   \n",
       "39    5988d759b33bbdbd4ba33d12   \n",
       "367   5cbdfaa4654fa015008a0cf2   \n",
       "1740  55fdc1bb4a5adedc5624892e   \n",
       "1598  5c6374a22512fa110071c370   \n",
       "\n",
       "                                                    Bio  \\\n",
       "1551  Truths about me, if you care\\nIf we matched, I...   \n",
       "39    Boston native\\n\\nLooking for witty banter and ...   \n",
       "367   Love practicing hot yoga and testing new recip...   \n",
       "1740  You know what they say about guys with big soc...   \n",
       "1598  Jewish boy from New York\\nUniversity of Washin...   \n",
       "\n",
       "                                            cleaned_bio    scores  \n",
       "1551  truth care match likely message snap often bad...  0.001916  \n",
       "39    Boston native look witty banter black coffee g...  0.001889  \n",
       "367   love practice hot yoga test new recipe nutriti...  0.001875  \n",
       "1740  know say guy big sock even big heart definitel...  0.001851  \n",
       "1598  boy Washington animal nature food booze live m...  0.001815  "
      ]
     },
     "execution_count": 12,
     "metadata": {},
     "output_type": "execute_result"
    }
   ],
   "source": [
    "df = df.sort_values('scores',ascending=False)\n",
    "df.head()"
   ]
  },
  {
   "cell_type": "code",
   "execution_count": 15,
   "metadata": {},
   "outputs": [],
   "source": [
    "df.to_csv('/home/pallavi/Project/SmartDate/output/tf-idf-scores.csv', sep='\\t',header=True, index=False)"
   ]
  },
  {
   "cell_type": "code",
   "execution_count": null,
   "metadata": {},
   "outputs": [],
   "source": []
  }
 ],
 "metadata": {
  "kernelspec": {
   "display_name": "Python 3",
   "language": "python",
   "name": "python3"
  },
  "language_info": {
   "codemirror_mode": {
    "name": "ipython",
    "version": 3
   },
   "file_extension": ".py",
   "mimetype": "text/x-python",
   "name": "python",
   "nbconvert_exporter": "python",
   "pygments_lexer": "ipython3",
   "version": "3.5.2"
  }
 },
 "nbformat": 4,
 "nbformat_minor": 2
}
