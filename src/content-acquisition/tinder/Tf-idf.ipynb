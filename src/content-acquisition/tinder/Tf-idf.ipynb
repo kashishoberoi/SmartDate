{
 "cells": [
  {
   "cell_type": "code",
   "execution_count": 24,
   "metadata": {},
   "outputs": [],
   "source": [
    "import json\n",
    "import spacy\n",
    "import yaml\n",
    "import os\n",
    "import operator\n",
    "import copy\n",
    "from spacy.vocab import Vocab\n",
    "import nltk\n",
    "from nltk.corpus import stopwords\n",
    "from sklearn.feature_extraction.text import TfidfVectorizer"
   ]
  },
  {
   "cell_type": "code",
   "execution_count": 2,
   "metadata": {},
   "outputs": [],
   "source": [
    "def import_bios(path):\n",
    "    with open(path) as fp:\n",
    "        temp = json.load(fp)\n",
    "        ids = [i['_id'] for i in temp['results'] if i['bio']]\n",
    "        bio = [i['bio'] for i in temp['results'] if i['bio']]\n",
    "        return ids,bio"
   ]
  },
  {
   "cell_type": "code",
   "execution_count": null,
   "metadata": {},
   "outputs": [],
   "source": [
    "def export_scores(score,path,bios,id):\n",
    "    result = {}\n",
    "    "
   ]
  },
  {
   "cell_type": "code",
   "execution_count": 42,
   "metadata": {},
   "outputs": [],
   "source": [
    "def lemma_sw_dict(bios):\n",
    "    nlp = spacy.load('en')\n",
    "    words = set(nltk.corpus.words.words())\n",
    "    stop_words = set(stopwords.words('english'))\n",
    "    clean = bios\n",
    "    for i, doc in enumerate(clean):\n",
    "        doc = nlp(doc)\n",
    "        clean[i] = \" \".join([token.lemma_ for token in doc if (str(token.lemma_) in words and str(token.lemma_) not in stop_words)])\n",
    "    return clean"
   ]
  },
  {
   "cell_type": "code",
   "execution_count": 4,
   "metadata": {},
   "outputs": [],
   "source": [
    "def tfidf(bios):\n",
    "    vectorizer = TfidfVectorizer(smooth_idf= True)\n",
    "    X = vectorizer.fit_transform(bios)\n",
    "    feature_names = vectorizer.get_feature_names()\n",
    "    vec = X.toarray()\n",
    "    return vec,feature_names"
   ]
  },
  {
   "cell_type": "code",
   "execution_count": 47,
   "metadata": {},
   "outputs": [],
   "source": [
    "def tf_idf_score(ids,vec):\n",
    "    score = []\n",
    "    for i,j in zip(ids,vec):\n",
    "        score.append((i, sum(j)/len(j)))\n",
    "    score.sort(key=operator.itemgetter(1), reverse=True)\n",
    "    return score"
   ]
  },
  {
   "cell_type": "code",
   "execution_count": 194,
   "metadata": {
    "scrolled": true
   },
   "outputs": [
    {
     "data": {
      "text/plain": [
       "[('5cf71b9b8b4a5715002aca18', 0.022600073645121878),\n",
       " ('5cf72619a3082b1f0009c394', 0.021114224016306495),\n",
       " ('5c8e94e89f217f1100d783c1', 0.02089446130235234),\n",
       " ('594c6927d108c9e056aeec5a', 0.018601455158944052),\n",
       " ('5c0041ff5fbacf94336293b6', 0.017967486705502158),\n",
       " ('5cf724ea1e6ced1600ff37ad', 0.017833084889826652),\n",
       " ('5c591ccc36c02411007fc7b9', 0.017786904366475606),\n",
       " ('5cce07bb6c90731500da001c', 0.016780585503191014),\n",
       " ('5cf7116ed2e6c41500ba5d28', 0.015916070624205133),\n",
       " ('55bfe2c7fb5fe72d158aa394', 0.013917555356722604),\n",
       " ('5bd630f84fa083ae3c79ab52', 0.013909672619269087),\n",
       " ('5bc96fa75dbb0d79393c3269', 0.013870047366333791),\n",
       " ('5bc96fa75dbb0d79393c3269', 0.013870047366333791),\n",
       " ('5bc96fa75dbb0d79393c3269', 0.013870047366333791),\n",
       " ('5bc96fa75dbb0d79393c3269', 0.013870047366333791),\n",
       " ('5cf6f7d32e637d16001cf214', 0.013840486733806329),\n",
       " ('5408bc17d402808f7215670c', 0.013776287072129528),\n",
       " ('54853dcb4c9ad4ec3859c8f5', 0.013134329788292405),\n",
       " ('5cf706d86968511700f18db2', 0.012660522890534244),\n",
       " ('5c05ff239496ea0733dd24bb', 0.012660004193668929),\n",
       " ('59f4b91bd6967c4b6ba5f3aa', 0.012655668061579724),\n",
       " ('5cf724d510d71a1f0037cab7', 0.011354817899724444),\n",
       " ('5cf740166968511700f1988a', 0.011337074542364805),\n",
       " ('5cf726b90d4da81700250506', 0.011318764482265669),\n",
       " ('5cf17bd511d60c150076c649', 0.011186288887732243),\n",
       " ('5cf73440f1d90117006b974f', 0.010316013424163212),\n",
       " ('5cf7334c30e7481500e89d9a', 0.00984119777027771),\n",
       " ('5c00e772784d3ba32c9c0758', 0.009818607070508427),\n",
       " ('5bcd5aacbecb92103ba91b10', 0.009789129776836866),\n",
       " ('5c776a734794331100d2190c', 0.009647189754242629),\n",
       " ('5cf709c60f8e5a1600391765', 0.009584548532264368),\n",
       " ('5cf734770e38f71500c8a95c', 0.008035304331665312),\n",
       " ('5ce72aec02e0cb1f0070199c', 0.008035304331665312),\n",
       " ('5ce5da0e7c32c8150061e1ce', 0.008035304331665312),\n",
       " ('5c15b63716b316f065dd9b3a', 0.00803012960664517),\n",
       " ('55eb7a350029196a74aee612', 0.008026602457885336),\n",
       " ('5cf2fa8e2ef5791600bb9a6d', 0.008026602457885336),\n",
       " ('5b84a5b76cc5f2f8094073f3', 0.008026602457885336),\n",
       " ('5ca6a559c228e116003f7ad2', 0.008018079194015808),\n",
       " ('5ce71c27f72e8a15002ebeb1', 0.008008199285620589),\n",
       " ('5cf70318e7399d180067ecc4', 0.008008199285620589),\n",
       " ('5cf72a429f57251700d41a93', 0.008008199285620589),\n",
       " ('5cd2047c75bf0615009ce8ab', 0.007985535833587652),\n",
       " ('5cd61539b075641500e04dd3', 0.005681818181818182),\n",
       " ('5c1b18ba6d5763eb149fd800', 0.005681818181818182),\n",
       " ('5baeea55d72673c35d06c508', 0.005681818181818182),\n",
       " ('5bc413324da88f9928e8e475', 0.005681818181818182),\n",
       " ('511eb37131d9a93d19000306', 0.005681818181818182),\n",
       " ('5ccdaf215a93401500a2f95b', 0.005681818181818182),\n",
       " ('5baeea55d72673c35d06c508', 0.005681818181818182),\n",
       " ('5c2ec4004183235a1f598bc9', 0.005681818181818182),\n",
       " ('5ccb2bc833baf1150087f6a4', 0.005681818181818182),\n",
       " ('5cf727e4ca9cc81500ed3af0', 0.005681818181818182),\n",
       " ('5ce89c40862f001500df6d41', 0.005681818181818182),\n",
       " ('5baeea55d72673c35d06c508', 0.005681818181818182),\n",
       " ('5c58c6abd8bc3f1200082a38', 0.005681818181818182),\n",
       " ('5baeea55d72673c35d06c508', 0.005681818181818182),\n",
       " ('5c1987ac6808fd770e1aaeeb', 0.005681818181818182),\n",
       " ('5b0c42e9288cb58f377120a3', 0.005681818181818182),\n",
       " ('5c7ed51bdb31071100b47bef', 0.0),\n",
       " ('5bb28227f533bd8d5e551f9d', 0.0),\n",
       " ('5cc13273a916a41f000dc3e2', 0.0),\n",
       " ('5cbbce9d86e5771500e01dcf', 0.0),\n",
       " ('564b50dfc57146f613d51f55', 0.0),\n",
       " ('5b7cec59a870ad7f1c619383', 0.0),\n",
       " ('5adfb8a0d93e256a0415082c', 0.0),\n",
       " ('5cf723fb2e637d16001cfb83', 0.0),\n",
       " ('5cf751b4f635bf16005be7d6', 0.0),\n",
       " ('5cf727cdcbeaf615008f8ce6', 0.0)]"
      ]
     },
     "execution_count": 194,
     "metadata": {},
     "output_type": "execute_result"
    }
   ],
   "source": [
    "a = []\n",
    "for i,j in zip(ids,sc):\n",
    "    a.append((i,j))\n",
    "a.sort(key=operator.itemgetter(1), reverse=True)\n",
    "a"
   ]
  },
  {
   "cell_type": "code",
   "execution_count": 48,
   "metadata": {},
   "outputs": [
    {
     "name": "stderr",
     "output_type": "stream",
     "text": [
      "/home/pallavi/.local/lib/python3.5/site-packages/ipykernel_launcher.py:3: YAMLLoadWarning: calling yaml.load() without Loader=... is deprecated, as the default Loader is unsafe. Please read https://msg.pyyaml.org/load for full details.\n",
      "  This is separate from the ipykernel package so we can avoid doing imports until\n"
     ]
    },
    {
     "name": "stdout",
     "output_type": "stream",
     "text": [
      "[('5cf71b9b8b4a5715002aca18', 0.020477482243935658), ('5c8e94e89f217f1100d783c1', 0.01823897706962276), ('5c591ccc36c02411007fc7b9', 0.015647513948878512), ('5cf72619a3082b1f0009c394', 0.014895997114799423), ('594c6927d108c9e056aeec5a', 0.014785615143428339), ('5cf724ea1e6ced1600ff37ad', 0.01333380328458161), ('5cf7116ed2e6c41500ba5d28', 0.01312404386629623), ('5c0041ff5fbacf94336293b6', 0.012855134846338762), ('5bd630f84fa083ae3c79ab52', 0.012252443985405953), ('5c05ff239496ea0733dd24bb', 0.012228736038164288), ('5bc96fa75dbb0d79393c3269', 0.012208998903367206), ('5bc96fa75dbb0d79393c3269', 0.012208998903367206), ('5bc96fa75dbb0d79393c3269', 0.012208998903367206), ('5bc96fa75dbb0d79393c3269', 0.012208998903367206), ('5cce07bb6c90731500da001c', 0.01197379370871508), ('55bfe2c7fb5fe72d158aa394', 0.011619630087961763), ('5cf740166968511700f1988a', 0.011585533369724513), ('5408bc17d402808f7215670c', 0.011539575083392489), ('5cf6f7d32e637d16001cf214', 0.011096872973826557), ('5cf724d510d71a1f0037cab7', 0.010495279011187915), ('54853dcb4c9ad4ec3859c8f5', 0.010392390275890635), ('5cf726b90d4da81700250506', 0.010200597791290832), ('5cf73440f1d90117006b974f', 0.009659486110536079), ('5ce71c27f72e8a15002ebeb1', 0.009478117084163979), ('59f4b91bd6967c4b6ba5f3aa', 0.00946343210831749), ('5cf706d86968511700f18db2', 0.009433851163061339), ('5cf17bd511d60c150076c649', 0.008558411683602019), ('5cf7334c30e7481500e89d9a', 0.007751937984496124), ('5b84a5b76cc5f2f8094073f3', 0.007745922288184116), ('5c00e772784d3ba32c9c0758', 0.007733857361220515), ('5bcd5aacbecb92103ba91b10', 0.007660501133713933), ('5c58c6abd8bc3f1200082a38', 0.007650096790485789), ('5c776a734794331100d2190c', 0.007630956760623546), ('5cf734770e38f71500c8a95c', 0.006713375223135183), ('5ce72aec02e0cb1f0070199c', 0.006707107433936336), ('5ce5da0e7c32c8150061e1ce', 0.006707107433936336), ('5cf2fa8e2ef5791600bb9a6d', 0.006707107433936336), ('5c1987ac6808fd770e1aaeeb', 0.006707107433936336), ('5c15b63716b316f065dd9b3a', 0.006703666271757144), ('5cf72a429f57251700d41a93', 0.0066789675644385775), ('5bc413324da88f9928e8e475', 0.006673060570411214), ('5ccb2bc833baf1150087f6a4', 0.006671741653445094), ('5ccdaf215a93401500a2f95b', 0.006669719750223193), ('5c1b18ba6d5763eb149fd800', 0.006657016667337084), ('5cd2047c75bf0615009ce8ab', 0.006646026135974754), ('5cf709c60f8e5a1600391765', 0.006538296673172592), ('5cd61539b075641500e04dd3', 0.005481447916174787), ('5cf727e4ca9cc81500ed3af0', 0.005481447916174787), ('5b0c42e9288cb58f377120a3', 0.005481447916174787), ('5baeea55d72673c35d06c508', 0.005479639391351499), ('5baeea55d72673c35d06c508', 0.005479639391351499), ('5baeea55d72673c35d06c508', 0.005479639391351499), ('5baeea55d72673c35d06c508', 0.005479639391351499), ('55eb7a350029196a74aee612', 0.005475511754216354), ('5ca6a559c228e116003f7ad2', 0.005469697434677451), ('5cf70318e7399d180067ecc4', 0.00544264399092877), ('5c2ec4004183235a1f598bc9', 0.005413087834295205), ('5bb28227f533bd8d5e551f9d', 0.003875968992248062), ('511eb37131d9a93d19000306', 0.003875968992248062), ('5ce89c40862f001500df6d41', 0.003875968992248062), ('5cf751b4f635bf16005be7d6', 0.003875968992248062), ('5c7ed51bdb31071100b47bef', 0.0), ('5cc13273a916a41f000dc3e2', 0.0), ('5cbbce9d86e5771500e01dcf', 0.0), ('564b50dfc57146f613d51f55', 0.0), ('5b7cec59a870ad7f1c619383', 0.0), ('5adfb8a0d93e256a0415082c', 0.0), ('5cf723fb2e637d16001cfb83', 0.0), ('5cf727cdcbeaf615008f8ce6', 0.0)]\n",
      "[('5cf71b9b8b4a5715002aca18', 0.020477482243935658), ('5c8e94e89f217f1100d783c1', 0.01823897706962276), ('5c591ccc36c02411007fc7b9', 0.015647513948878512), ('5cf72619a3082b1f0009c394', 0.014895997114799423), ('594c6927d108c9e056aeec5a', 0.014785615143428339), ('5cf724ea1e6ced1600ff37ad', 0.01333380328458161), ('5cf7116ed2e6c41500ba5d28', 0.01312404386629623), ('5c0041ff5fbacf94336293b6', 0.012855134846338762), ('5bd630f84fa083ae3c79ab52', 0.012252443985405953), ('5c05ff239496ea0733dd24bb', 0.012228736038164288), ('5bc96fa75dbb0d79393c3269', 0.012208998903367206), ('5bc96fa75dbb0d79393c3269', 0.012208998903367206), ('5bc96fa75dbb0d79393c3269', 0.012208998903367206), ('5bc96fa75dbb0d79393c3269', 0.012208998903367206), ('5cce07bb6c90731500da001c', 0.01197379370871508), ('55bfe2c7fb5fe72d158aa394', 0.011619630087961763), ('5cf740166968511700f1988a', 0.011585533369724513), ('5408bc17d402808f7215670c', 0.011539575083392489), ('5cf6f7d32e637d16001cf214', 0.011096872973826557), ('5cf724d510d71a1f0037cab7', 0.010495279011187915), ('54853dcb4c9ad4ec3859c8f5', 0.010392390275890635), ('5cf726b90d4da81700250506', 0.010200597791290832), ('5cf73440f1d90117006b974f', 0.009659486110536079), ('5ce71c27f72e8a15002ebeb1', 0.009478117084163979), ('59f4b91bd6967c4b6ba5f3aa', 0.00946343210831749), ('5cf706d86968511700f18db2', 0.009433851163061339), ('5cf17bd511d60c150076c649', 0.008558411683602019), ('5cf7334c30e7481500e89d9a', 0.007751937984496124), ('5b84a5b76cc5f2f8094073f3', 0.007745922288184116), ('5c00e772784d3ba32c9c0758', 0.007733857361220515), ('5bcd5aacbecb92103ba91b10', 0.007660501133713933), ('5c58c6abd8bc3f1200082a38', 0.007650096790485789), ('5c776a734794331100d2190c', 0.007630956760623546), ('5cf734770e38f71500c8a95c', 0.006713375223135183), ('5ce72aec02e0cb1f0070199c', 0.006707107433936336), ('5ce5da0e7c32c8150061e1ce', 0.006707107433936336), ('5cf2fa8e2ef5791600bb9a6d', 0.006707107433936336), ('5c1987ac6808fd770e1aaeeb', 0.006707107433936336), ('5c15b63716b316f065dd9b3a', 0.006703666271757144), ('5cf72a429f57251700d41a93', 0.0066789675644385775), ('5bc413324da88f9928e8e475', 0.006673060570411214), ('5ccb2bc833baf1150087f6a4', 0.006671741653445094), ('5ccdaf215a93401500a2f95b', 0.006669719750223193), ('5c1b18ba6d5763eb149fd800', 0.006657016667337084), ('5cd2047c75bf0615009ce8ab', 0.006646026135974754), ('5cf709c60f8e5a1600391765', 0.006538296673172592), ('5cd61539b075641500e04dd3', 0.005481447916174787), ('5cf727e4ca9cc81500ed3af0', 0.005481447916174787), ('5b0c42e9288cb58f377120a3', 0.005481447916174787), ('5baeea55d72673c35d06c508', 0.005479639391351499), ('5baeea55d72673c35d06c508', 0.005479639391351499), ('5baeea55d72673c35d06c508', 0.005479639391351499), ('5baeea55d72673c35d06c508', 0.005479639391351499), ('55eb7a350029196a74aee612', 0.005475511754216354), ('5ca6a559c228e116003f7ad2', 0.005469697434677451), ('5cf70318e7399d180067ecc4', 0.00544264399092877), ('5c2ec4004183235a1f598bc9', 0.005413087834295205), ('5bb28227f533bd8d5e551f9d', 0.003875968992248062), ('511eb37131d9a93d19000306', 0.003875968992248062), ('5ce89c40862f001500df6d41', 0.003875968992248062), ('5cf751b4f635bf16005be7d6', 0.003875968992248062), ('5c7ed51bdb31071100b47bef', 0.0), ('5cc13273a916a41f000dc3e2', 0.0), ('5cbbce9d86e5771500e01dcf', 0.0), ('564b50dfc57146f613d51f55', 0.0), ('5b7cec59a870ad7f1c619383', 0.0), ('5adfb8a0d93e256a0415082c', 0.0), ('5cf723fb2e637d16001cfb83', 0.0), ('5cf727cdcbeaf615008f8ce6', 0.0)]\n"
     ]
    }
   ],
   "source": [
    "if __name__ == '__main__':\n",
    "    with open('../../../config/tinder.yaml', 'r') as ymlfile:\n",
    "        cfg = yaml.load(ymlfile)\n",
    "    path = cfg['output_folder']+cfg['city']+'/'\n",
    "    json_files = [pos_json for pos_json in os.listdir(path) if pos_json.endswith('.json')]\n",
    "    data_path = ('../../../output/data')\n",
    "    if not os.path.exists(data_path):\n",
    "            os.mkdir(data_path)\n",
    "\n",
    "    for file in json_files:\n",
    "        ids,bios = import_bios(path+json_files[0])\n",
    "#         old_bios = bios\n",
    "        cleaned = lemma_sw_dict(bios)\n",
    "#         print(cleaned)\n",
    "        vector,terms =tfidf(cleaned)\n",
    "#         print(bios)\n",
    "#         print(vector)\n",
    "        scores = tf_idf_score(ids,vector)\n",
    "        print(scores)\n",
    "#         export(scores,op_path)\n",
    "    "
   ]
  },
  {
   "cell_type": "code",
   "execution_count": null,
   "metadata": {},
   "outputs": [],
   "source": [
    "_id,b = "
   ]
  },
  {
   "cell_type": "code",
   "execution_count": 231,
   "metadata": {},
   "outputs": [],
   "source": [
    " l = []\n",
    "for bio,ids in zip(b,i):\n",
    "    l.append((ids,bio))\n",
    "d = {}\n",
    "d.update(l)"
   ]
  },
  {
   "cell_type": "code",
   "execution_count": 230,
   "metadata": {},
   "outputs": [],
   "source": [
    "path = '/home/pallavi/Project/SmartDate/output/Boston/2019-06-05.json'\n",
    "i,b = import_bios(path)"
   ]
  },
  {
   "cell_type": "code",
   "execution_count": 232,
   "metadata": {},
   "outputs": [
    {
     "data": {
      "text/plain": [
       "{'511eb37131d9a93d19000306': 'Only here for your dogs  \\nMA-->ME\\nIG: hannahendricks_',\n",
       " '5408bc17d402808f7215670c': 'I like people who message first. Tell me about your day or a funny story or something.',\n",
       " '54853dcb4c9ad4ec3859c8f5': \"“Don't make smoothies and expect the boys to come to the yard”- my mom wouldn’t let me make this my senior quote \\n\\n@savannaVjohnson\",\n",
       " '55bfe2c7fb5fe72d158aa394': 'Figure skater. Rugby player. Pet enthusiast.\\nLow maintenance. High quality.\\n🇷🇺🇮🇪',\n",
       " '55eb7a350029196a74aee612': 'BSN\\nlife is lit',\n",
       " '564b50dfc57146f613d51f55': '#callherdaddy',\n",
       " '594c6927d108c9e056aeec5a': 'Hi! Looking for some cool people to spend time with and smoke. I love to do anything outside but obviously love watching Netflix on rainy summer nights. HMU and lets smoke',\n",
       " '59f4b91bd6967c4b6ba5f3aa': 'Here for whatever my dude I just wanna have fun this summer\\npsych major 💕',\n",
       " '5adfb8a0d93e256a0415082c': '♏️\\nBSU ‘19\\n🇮🇹🇮🇪\\nig: morganviall',\n",
       " '5b0c42e9288cb58f377120a3': 'Kimmaurice📸\\nI’m really here to become besties with your mom',\n",
       " '5b7cec59a870ad7f1c619383': '5’9” ♌️',\n",
       " '5b84a5b76cc5f2f8094073f3': 'left on read for two hours and here i am',\n",
       " '5baeea55d72673c35d06c508': 'Everything happens for a reason',\n",
       " '5bb28227f533bd8d5e551f9d': 'Architecture 🇧🇷',\n",
       " '5bc413324da88f9928e8e475': 'Let’s go on a date',\n",
       " '5bc96fa75dbb0d79393c3269': 'Originally from Venezuela. Living in Boston, Massachusetts. I have 22 years. I graduated as a dentist.\\nI like to go to the gym&travel\\nI have a twin sister❤️',\n",
       " '5bcd5aacbecb92103ba91b10': 'lmk if you’re down to go outside and have good time',\n",
       " '5bd630f84fa083ae3c79ab52': 'I’ll paint you and teach you polish.\\n\\nDeathly afraid of anchors.\\n\\nWill probably steal all of your coats',\n",
       " '5c0041ff5fbacf94336293b6': \"whiskey on ice. bottom shelf\\ncan't cook. capable but unwilling to clean \\n5 foot 6, absolute unit\",\n",
       " '5c00e772784d3ba32c9c0758': 'If you’re funny enough you can come to my house in Hawaii 🌺\\n\\nInsta: bettinatersoni',\n",
       " '5c05ff239496ea0733dd24bb': 'Cold hands warm heart\\nMy dog’s name is Winston\\n5’7 if that changes things for ya',\n",
       " '5c15b63716b316f065dd9b3a': 'If our first date isn’t at Smith and Wollensky’s, I’ll be seein ya',\n",
       " '5c1987ac6808fd770e1aaeeb': 'Roll my blunts for me and I’m yours forever 😂',\n",
       " '5c1b18ba6d5763eb149fd800': 'Future hockey mom\\nvenmo- alyssa-Stcroix\\nSnap alyssamareigh',\n",
       " '5c2ec4004183235a1f598bc9': \"I'm 18 not 19\\nUSMC in September\\nSnap: laylaloughman12\",\n",
       " '5c58c6abd8bc3f1200082a38': 'Just wanna talk & see where things go 🙂',\n",
       " '5c591ccc36c02411007fc7b9': 'Pros: \\n- will do a duet with you at a karaoke bar\\n- can tie a cherry stem with my tongue\\n- I receive better grades then my bra\\nCons:\\n- will do a duet with you at a karaoke bar\\n- swears in front of children \\n- literally nocturnal',\n",
       " '5c776a734794331100d2190c': 'I like big boats and I cannot lie',\n",
       " '5c7ed51bdb31071100b47bef': 'Insta:ava_homsey',\n",
       " '5c8e94e89f217f1100d783c1': 'At least the double Fs aren’t my grades \\n\\nI used to work at a gym, now I raise veggies... that’s how Vermont works right? \\n\\nI’m bi. Fr/Eng. \\n\\nAsk me about my cartoon dinosaur tats \\n\\n“Why are you on tinder?” My cat needs friends. \\n\\nHer name is Wednesday like Wednesday Addams and she enjoys sleeping, and shredding my belongings',\n",
       " '5ca6a559c228e116003f7ad2': 'if you have a dog that’s a plus',\n",
       " '5cbbce9d86e5771500e01dcf': 'Insta- brimye',\n",
       " '5cc13273a916a41f000dc3e2': 'Snap// Maddy.Mawn',\n",
       " '5ccb2bc833baf1150087f6a4': 'only looking for cuddles and kisses....',\n",
       " '5ccdaf215a93401500a2f95b': 'Looking for someone fun.',\n",
       " '5cce07bb6c90731500da001c': 'ah shit here we go again\\n\\nwashington ✈️ massachusetts \\n\\nlife is short that’s why i prefer fun times over long times \\U0001f974\\n\\nno snap\\nig if you’re lucky \\n\\n🇱🇦',\n",
       " '5cd2047c75bf0615009ce8ab': 'Add my snap loveablejj96 👻 hardly on here \\nInstagram: loveablejj',\n",
       " '5cd61539b075641500e04dd3': 'Chipotle and fitness just about sums me up\\n\\nIG: hannahh______',\n",
       " '5ce5da0e7c32c8150061e1ce': 'Sorry for my bluntness that’s just how I roll 💨',\n",
       " '5ce71c27f72e8a15002ebeb1': '“Could be cooler” -VOGUE  \\n“If only she could spell” -The Gordian \\n“She gave herself five stars.” -Roger Ebert',\n",
       " '5ce72aec02e0cb1f0070199c': 'who’s trying to catch these hands?\\nᵃⁿᵈ ʰᵒˡᵈ ᵗʰᵉᵐ',\n",
       " '5ce89c40862f001500df6d41': 'music recs?',\n",
       " '5cf17bd511d60c150076c649': 'I like blue ass water and I’m 5’8”\\nSerious Inquiries Only',\n",
       " '5cf2fa8e2ef5791600bb9a6d': 'hockey, the beach, surfing',\n",
       " '5cf6f7d32e637d16001cf214': 'If ur not gonna waste my time and fuck me over then swipe right, other wise keep swiping please😂\\U0001f937🏻\\u200d♀️',\n",
       " '5cf70318e7399d180067ecc4': 'Cool cool cool no doubt no doubt',\n",
       " '5cf706d86968511700f18db2': 'pups and pizza \\n\\nactor in nyc/living in the cape for the summer',\n",
       " '5cf709c60f8e5a1600391765': 'here for a good time not a long time',\n",
       " '5cf7116ed2e6c41500ba5d28': 'They always say yee haw but never ask haw yee\\nA theatre performance major who loves adventuring and enjoys talking to new people😜',\n",
       " '5cf71b9b8b4a5715002aca18': 'I am 18 I graduate high school in a week and four days I am a whatever happens happens type of person so let me know what you want. I’m not the type to get played, I’m Puerto Rican and Dominican, I love sports being outdoors, cuddling and watching movies from time to time and I love going on adventures and going on corny dates I also love guys in the military and built guys',\n",
       " '5cf723fb2e637d16001cfb83': 'And I oop-',\n",
       " '5cf724d510d71a1f0037cab7': 'MWCC Nursing Graduate 💊💉 \\nOutdoors, Bruins & Tattoos ❤️\\nDad bods & beards are a plus, but not a deal breaker.\\nRespect earns respect 👍🏼',\n",
       " '5cf724ea1e6ced1600ff37ad': 'Your favorite 4eyes 😌Down to Earth type of girl.\\nI like hiking, romantic movies and all that cliché shit. My standards are so low all I ask is you don’t be a furry or morbidly obese  :)',\n",
       " '5cf72619a3082b1f0009c394': 'the realest as the come baby 😘. snap: princesss_dar\\nif you wanna get to know just ask 😘😘😘. if you don’t like durk, swipe left cause imma durk you to death \\U0001f937🏽\\u200d♀️. if you goofy you can bounce. i am rude af 😘',\n",
       " '5cf726b90d4da81700250506': 'I’ll probably show u my shitbox more than myself\\U0001f92a\\nusually never text first\\nhmu on snap jc191918',\n",
       " '5cf727cdcbeaf615008f8ce6': 'Insta:kelsgoetz',\n",
       " '5cf727e4ca9cc81500ed3af0': '🇺🇸🇲🇽\\nI have no idea what to put on here',\n",
       " '5cf72a429f57251700d41a93': 'take me out on a date or with a sniper',\n",
       " '5cf7334c30e7481500e89d9a': 'I’m not dumb, I’m just from another country ;)\\nOnly here until June 24rth',\n",
       " '5cf73440f1d90117006b974f': 'Korean staying in Providence for the summer.\\nLooking for a friend. Nothing else!\\n+ if you have a dog, would love to friend her/him😍',\n",
       " '5cf734770e38f71500c8a95c': 'these buns r gluten free 😜',\n",
       " '5cf740166968511700f1988a': 'Looking for something serious\\nGet to know me 😊\\nArt, Music, Nature 💖🌿🌸\\nAlso recovering from a car accident',\n",
       " '5cf751b4f635bf16005be7d6': 'Vegetarian 🌱  if matters'}"
      ]
     },
     "execution_count": 232,
     "metadata": {},
     "output_type": "execute_result"
    }
   ],
   "source": [
    "d['']"
   ]
  },
  {
   "cell_type": "code",
   "execution_count": 208,
   "metadata": {},
   "outputs": [
    {
     "data": {
      "text/plain": [
       "['fitness',\n",
       " 'like big lie',\n",
       " '',\n",
       " 'hockey',\n",
       " 'cool could spell give five',\n",
       " 'plus deal breaker respect',\n",
       " 'ah go life short prefer fun time long time snap lucky',\n",
       " 'like people message first day funny story something',\n",
       " 'probably show u usually never text first snap',\n",
       " 'dumb another country June',\n",
       " 'Boston graduate dentist like go twin sister',\n",
       " '',\n",
       " 'reason',\n",
       " '',\n",
       " 'something serious know art car accident',\n",
       " 'r gluten free',\n",
       " '',\n",
       " 'go outside good time',\n",
       " 'go date',\n",
       " 'dog',\n",
       " 'favorite type girl like romantic low ask furry morbidly obese',\n",
       " '',\n",
       " 'warm heart dog name Winston ya',\n",
       " 'Boston graduate dentist like go twin sister',\n",
       " 'someone fun',\n",
       " 'dog plus',\n",
       " 'reason',\n",
       " 'least double use work gym raise Vermont work right cartoon dinosaur tinder cat need name Wednesday like Wednesday sleep',\n",
       " 'September',\n",
       " 'whatever dude fun summer psych major',\n",
       " 'cool cool doubt doubt',\n",
       " 'good time long time',\n",
       " 'life light',\n",
       " 'whiskey ice bottom shelf cook capable unwilling clean foot absolute unit',\n",
       " 'duet karaoke bar tie cherry stem tongue receive well bra duet karaoke bar front literally nocturnal',\n",
       " '',\n",
       " 'skater Rugby player enthusiast maintenance quality',\n",
       " 'paint teach polish afraid Will probably steal',\n",
       " 'look',\n",
       " 'idea put',\n",
       " 'first date ya',\n",
       " 'always say yee haw never ask haw yee performance major talk new people',\n",
       " 'music',\n",
       " 'take date sniper',\n",
       " 'real come baby snap get know ask like swipe leave cause death goofy bounce rude',\n",
       " 'Boston graduate dentist like go twin sister',\n",
       " 'try catch',\n",
       " 'reason',\n",
       " 'bluntness roll',\n",
       " '',\n",
       " 'talk see go',\n",
       " 'like blue ass water',\n",
       " '',\n",
       " 'reason',\n",
       " '',\n",
       " 'snap hardly',\n",
       " 'funny enough come house',\n",
       " 'ur go waste time swipe right wise keep please',\n",
       " '',\n",
       " 'Boston graduate dentist like go twin sister',\n",
       " 'summer friend else dog would love friend',\n",
       " 'hockey beach',\n",
       " 'leave read two',\n",
       " 'graduate high school week four day whatever type person let know want type get love sport outdoors watch time time love go go corny also love military build',\n",
       " 'pizza actor live cape summer',\n",
       " 'forever',\n",
       " 'make expect come would let make senior quote',\n",
       " 'really become',\n",
       " 'cool people spend time smoke love anything outside obviously love watch rainy summer night smoke']"
      ]
     },
     "execution_count": 208,
     "metadata": {},
     "output_type": "execute_result"
    }
   ],
   "source": [
    "bios"
   ]
  },
  {
   "cell_type": "code",
   "execution_count": 225,
   "metadata": {},
   "outputs": [
    {
     "name": "stdout",
     "output_type": "stream",
     "text": [
      "sum\n"
     ]
    }
   ],
   "source": [
    "s = 'sums'\n",
    "s = nlp(s)\n",
    "for i in s:\n",
    "    print(i.lemma_)"
   ]
  },
  {
   "cell_type": "code",
   "execution_count": 245,
   "metadata": {},
   "outputs": [
    {
     "data": {
      "text/plain": [
       "'Here for whatever my dude I just wanna have fun this summer\\npsych major 💕'"
      ]
     },
     "execution_count": 245,
     "metadata": {},
     "output_type": "execute_result"
    }
   ],
   "source": [
    "\n",
    "d[a[20][0]]\n"
   ]
  },
  {
   "cell_type": "code",
   "execution_count": 246,
   "metadata": {},
   "outputs": [
    {
     "data": {
      "text/plain": [
       "0.012655668061579724"
      ]
     },
     "execution_count": 246,
     "metadata": {},
     "output_type": "execute_result"
    }
   ],
   "source": [
    "a[20][1]"
   ]
  },
  {
   "cell_type": "code",
   "execution_count": null,
   "metadata": {},
   "outputs": [],
   "source": []
  }
 ],
 "metadata": {
  "kernelspec": {
   "display_name": "Python 3",
   "language": "python",
   "name": "python3"
  },
  "language_info": {
   "codemirror_mode": {
    "name": "ipython",
    "version": 3
   },
   "file_extension": ".py",
   "mimetype": "text/x-python",
   "name": "python",
   "nbconvert_exporter": "python",
   "pygments_lexer": "ipython3",
   "version": "3.5.2"
  }
 },
 "nbformat": 4,
 "nbformat_minor": 2
}
