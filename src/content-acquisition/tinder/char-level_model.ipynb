{
 "cells": [
  {
   "cell_type": "code",
   "execution_count": 1,
   "metadata": {},
   "outputs": [
    {
     "name": "stderr",
     "output_type": "stream",
     "text": [
      "Using TensorFlow backend.\n"
     ]
    }
   ],
   "source": [
    "import json\n",
    "import yaml\n",
    "import os\n",
    "import operator\n",
    "import copy\n",
    "from array import array\n",
    "import numpy as np\n",
    "from keras.preprocessing.text import Tokenizer\n",
    "from keras.preprocessing.sequence import pad_sequences\n",
    "from keras.utils import to_categorical\n",
    "from keras.models import Sequential\n",
    "from keras.layers import Dense\n",
    "from keras.layers import LSTM\n",
    "from keras.layers.embeddings import Embedding\n",
    "from keras.models import load_model\n",
    "from sklearn.model_selection import train_test_split\n",
    "import pandas as pd"
   ]
  },
  {
   "cell_type": "code",
   "execution_count": 2,
   "metadata": {},
   "outputs": [],
   "source": [
    "def import_bios(path):\n",
    "    ids = []\n",
    "    bio = []\n",
    "    json_files = [pos_json for pos_json in os.listdir(path) if pos_json.endswith('.json')]\n",
    "    for i in json_files:\n",
    "        with open(path+i) as fp:  \n",
    "            temp = json.load(fp)\n",
    "            i = [i['_id'] for i in temp['results'] if i.get('bio')]\n",
    "            b = [i.get('bio') for i in temp['results'] if i.get('bio')]\n",
    "        ids+=i;\n",
    "        bio+=b\n",
    "    return ids,bio"
   ]
  },
  {
   "cell_type": "code",
   "execution_count": 5,
   "metadata": {},
   "outputs": [],
   "source": [
    "path = '../../../output/tinder/Seatle/'\n",
    "ids,bios = import_bios(path)"
   ]
  },
  {
   "cell_type": "code",
   "execution_count": 6,
   "metadata": {},
   "outputs": [
    {
     "data": {
      "text/html": [
       "<div>\n",
       "<style scoped>\n",
       "    .dataframe tbody tr th:only-of-type {\n",
       "        vertical-align: middle;\n",
       "    }\n",
       "\n",
       "    .dataframe tbody tr th {\n",
       "        vertical-align: top;\n",
       "    }\n",
       "\n",
       "    .dataframe thead th {\n",
       "        text-align: right;\n",
       "    }\n",
       "</style>\n",
       "<table border=\"1\" class=\"dataframe\">\n",
       "  <thead>\n",
       "    <tr style=\"text-align: right;\">\n",
       "      <th></th>\n",
       "      <th>ID</th>\n",
       "      <th>Bio</th>\n",
       "    </tr>\n",
       "  </thead>\n",
       "  <tbody>\n",
       "    <tr>\n",
       "      <th>0</th>\n",
       "      <td>5cec23f47ea01e1600e103f1</td>\n",
       "      <td>follow my insta🤩 \\n@maddie_hosford</td>\n",
       "    </tr>\n",
       "    <tr>\n",
       "      <th>1</th>\n",
       "      <td>5cb554e9b4bddb1500513c1e</td>\n",
       "      <td>Witty sarcasm and an Amateur in a whole lot of...</td>\n",
       "    </tr>\n",
       "    <tr>\n",
       "      <th>2</th>\n",
       "      <td>5b0f8377abca8d5f5851c905</td>\n",
       "      <td>i’ll fill this out later</td>\n",
       "    </tr>\n",
       "    <tr>\n",
       "      <th>3</th>\n",
       "      <td>57048ac20c7642621b0fd3af</td>\n",
       "      <td>Vote for Summer✌️\\nTell me your favorite Vine 👀</td>\n",
       "    </tr>\n",
       "    <tr>\n",
       "      <th>4</th>\n",
       "      <td>5ba5f8ab81da12b41ee0b81c</td>\n",
       "      <td>looking for someone with a truck so I can reen...</td>\n",
       "    </tr>\n",
       "  </tbody>\n",
       "</table>\n",
       "</div>"
      ],
      "text/plain": [
       "                         ID                                                Bio\n",
       "0  5cec23f47ea01e1600e103f1                 follow my insta🤩 \\n@maddie_hosford\n",
       "1  5cb554e9b4bddb1500513c1e  Witty sarcasm and an Amateur in a whole lot of...\n",
       "2  5b0f8377abca8d5f5851c905                           i’ll fill this out later\n",
       "3  57048ac20c7642621b0fd3af    Vote for Summer✌️\\nTell me your favorite Vine 👀\n",
       "4  5ba5f8ab81da12b41ee0b81c  looking for someone with a truck so I can reen..."
      ]
     },
     "execution_count": 6,
     "metadata": {},
     "output_type": "execute_result"
    }
   ],
   "source": [
    "df = pd.DataFrame(list(zip(ids, bios)), \n",
    "               columns =['ID', 'Bio']) \n",
    "df.head()"
   ]
  },
  {
   "cell_type": "code",
   "execution_count": 13,
   "metadata": {},
   "outputs": [],
   "source": [
    "train_texts = df['Bio'].values\n",
    "train_texts = [s.lower() for s in train_texts]\n",
    "max_len = len(max(bios,key=len))"
   ]
  },
  {
   "cell_type": "code",
   "execution_count": 14,
   "metadata": {},
   "outputs": [
    {
     "data": {
      "text/plain": [
       "['follow my insta\\U0001f929 \\n@maddie_hosford',\n",
       " 'witty sarcasm and an amateur in a whole lot of trades\\n\\naspiring musician who loves good music']"
      ]
     },
     "execution_count": 14,
     "metadata": {},
     "output_type": "execute_result"
    }
   ],
   "source": [
    "train_texts[:2]"
   ]
  },
  {
   "cell_type": "code",
   "execution_count": 65,
   "metadata": {},
   "outputs": [],
   "source": [
    "tk = Tokenizer(num_words=None, char_level=True, oov_token='UNK')\n",
    "tk.fit_on_texts(train_texts)\n",
    "alphabet = \"abcdefghijklmnopqrstuvwxyz0123456789\"\n",
    "vocab_size = len(alphabet)+1\n",
    "\n",
    "char_dict = {}\n",
    "for i, char in enumerate(alphabet):\n",
    "    char_dict[char] = i + 1\n",
    "tk.word_index = char_dict.copy()\n",
    "tk.word_index[tk.oov_token] = max(char_dict.values()) + 1\n",
    "\n",
    "max_len = len(max(bios,key=len))\n",
    "sequences = tk.texts_to_sequences(train_texts)\n",
    "train_seq = pad_sequences(sequences, maxlen=max_len, padding='post')"
   ]
  },
  {
   "cell_type": "code",
   "execution_count": 66,
   "metadata": {},
   "outputs": [],
   "source": [
    "X = copy.deepcopy(train_seq)\n",
    "y = pad_sequences(train_seq[:,1:], maxlen=max_len, padding='post')"
   ]
  },
  {
   "cell_type": "code",
   "execution_count": 67,
   "metadata": {},
   "outputs": [
    {
     "name": "stdout",
     "output_type": "stream",
     "text": [
      "(1635, 500, 38)\n",
      "(1635, 500, 38)\n"
     ]
    }
   ],
   "source": [
    "X = to_categorical(X)\n",
    "y = to_categorical(y)\n",
    "print(X.shape)\n",
    "print(y.shape)"
   ]
  },
  {
   "cell_type": "code",
   "execution_count": 68,
   "metadata": {},
   "outputs": [],
   "source": [
    "X_train, X_test, y_train, y_test = train_test_split(X, y, test_size=0.33, random_state=42)"
   ]
  },
  {
   "cell_type": "code",
   "execution_count": 69,
   "metadata": {},
   "outputs": [],
   "source": [
    "X_training,X_val,y_training,y_val = train_test_split(X_train, y_train, test_size=0.2, random_state=42)"
   ]
  },
  {
   "cell_type": "code",
   "execution_count": 70,
   "metadata": {},
   "outputs": [
    {
     "name": "stdout",
     "output_type": "stream",
     "text": [
      "_________________________________________________________________\n",
      "Layer (type)                 Output Shape              Param #   \n",
      "=================================================================\n",
      "lstm_4 (LSTM)                (None, 500, 38)           11704     \n",
      "_________________________________________________________________\n",
      "lstm_5 (LSTM)                (None, 500, 100)          55600     \n",
      "_________________________________________________________________\n",
      "lstm_6 (LSTM)                (None, 500, 100)          80400     \n",
      "_________________________________________________________________\n",
      "dense_2 (Dense)              (None, 500, 38)           3838      \n",
      "=================================================================\n",
      "Total params: 151,542\n",
      "Trainable params: 151,542\n",
      "Non-trainable params: 0\n",
      "_________________________________________________________________\n",
      "None\n"
     ]
    }
   ],
   "source": [
    "#LSTM\n",
    "hidden_size = 100;\n",
    "model = Sequential()\n",
    "# model.add(Embedding(max_len, hidden_size, input_shape = X.shape)\n",
    "model.add(LSTM(38,batch_size = None,input_shape = (X.shape[1],X.shape[2],), return_sequences=True))\n",
    "model.add(LSTM(hidden_size, return_sequences=True))\n",
    "model.add(LSTM(hidden_size, return_sequences=True))\n",
    "model.add(Dense(38, activation='softmax'))\n",
    "print(model.summary())"
   ]
  },
  {
   "cell_type": "code",
   "execution_count": 71,
   "metadata": {},
   "outputs": [
    {
     "name": "stdout",
     "output_type": "stream",
     "text": [
      "Train on 876 samples, validate on 219 samples\n",
      "Epoch 1/100\n",
      " - 25s - loss: 1.7918 - acc: 0.7232 - val_loss: 0.9567 - val_acc: 0.7574\n",
      "Epoch 2/100\n",
      " - 23s - loss: 0.9693 - acc: 0.7776 - val_loss: 0.8749 - val_acc: 0.8034\n",
      "Epoch 3/100\n",
      " - 23s - loss: 0.9127 - acc: 0.7766 - val_loss: 0.7826 - val_acc: 0.7999\n",
      "Epoch 4/100\n",
      " - 23s - loss: 0.7906 - acc: 0.7989 - val_loss: 0.7155 - val_acc: 0.8131\n",
      "Epoch 5/100\n",
      " - 23s - loss: 0.7592 - acc: 0.8010 - val_loss: 0.7042 - val_acc: 0.8142\n",
      "Epoch 6/100\n",
      " - 24s - loss: 0.7507 - acc: 0.8024 - val_loss: 0.6987 - val_acc: 0.8152\n",
      "Epoch 7/100\n",
      " - 28s - loss: 0.7453 - acc: 0.8034 - val_loss: 0.6945 - val_acc: 0.8160\n",
      "Epoch 8/100\n",
      " - 23s - loss: 0.7410 - acc: 0.8044 - val_loss: 0.6909 - val_acc: 0.8168\n",
      "Epoch 9/100\n",
      " - 24s - loss: 0.7379 - acc: 0.8051 - val_loss: 0.6876 - val_acc: 0.8176\n",
      "Epoch 10/100\n",
      " - 28s - loss: 0.7345 - acc: 0.8057 - val_loss: 0.6839 - val_acc: 0.8181\n",
      "Epoch 11/100\n",
      " - 30s - loss: 0.7315 - acc: 0.8063 - val_loss: 0.6817 - val_acc: 0.8189\n",
      "Epoch 12/100\n",
      " - 26s - loss: 0.7295 - acc: 0.8069 - val_loss: 0.6795 - val_acc: 0.8196\n",
      "Epoch 13/100\n",
      " - 24s - loss: 0.7277 - acc: 0.8070 - val_loss: 0.6783 - val_acc: 0.8197\n",
      "Epoch 14/100\n",
      " - 25s - loss: 0.7262 - acc: 0.8071 - val_loss: 0.6765 - val_acc: 0.8197\n",
      "Epoch 15/100\n",
      " - 28s - loss: 0.7246 - acc: 0.8072 - val_loss: 0.6755 - val_acc: 0.8197\n",
      "Epoch 16/100\n",
      " - 25s - loss: 0.7233 - acc: 0.8074 - val_loss: 0.6737 - val_acc: 0.8200\n",
      "Epoch 17/100\n",
      " - 24s - loss: 0.7220 - acc: 0.8077 - val_loss: 0.6729 - val_acc: 0.8205\n",
      "Epoch 18/100\n",
      " - 25s - loss: 0.7208 - acc: 0.8081 - val_loss: 0.6727 - val_acc: 0.8201\n",
      "Epoch 19/100\n",
      " - 25s - loss: 0.7200 - acc: 0.8084 - val_loss: 0.6710 - val_acc: 0.8212\n",
      "Epoch 20/100\n",
      " - 24s - loss: 0.7185 - acc: 0.8087 - val_loss: 0.6700 - val_acc: 0.8213\n",
      "Epoch 21/100\n",
      " - 24s - loss: 0.7175 - acc: 0.8089 - val_loss: 0.6688 - val_acc: 0.8214\n",
      "Epoch 22/100\n",
      " - 24s - loss: 0.7162 - acc: 0.8089 - val_loss: 0.6677 - val_acc: 0.8215\n",
      "Epoch 23/100\n",
      " - 24s - loss: 0.7144 - acc: 0.8090 - val_loss: 0.6659 - val_acc: 0.8215\n",
      "Epoch 24/100\n",
      " - 24s - loss: 0.7125 - acc: 0.8090 - val_loss: 0.6637 - val_acc: 0.8215\n",
      "Epoch 25/100\n",
      " - 24s - loss: 0.7090 - acc: 0.8090 - val_loss: 0.6592 - val_acc: 0.8215\n",
      "Epoch 26/100\n",
      " - 25s - loss: 0.7030 - acc: 0.8090 - val_loss: 0.6535 - val_acc: 0.8217\n",
      "Epoch 27/100\n",
      " - 24s - loss: 0.6955 - acc: 0.8091 - val_loss: 0.6454 - val_acc: 0.8214\n",
      "Epoch 28/100\n",
      " - 27s - loss: 0.6867 - acc: 0.8107 - val_loss: 0.6384 - val_acc: 0.8235\n",
      "Epoch 29/100\n",
      " - 24s - loss: 0.6805 - acc: 0.8123 - val_loss: 0.6342 - val_acc: 0.8245\n",
      "Epoch 30/100\n",
      " - 27s - loss: 0.6757 - acc: 0.8135 - val_loss: 0.6301 - val_acc: 0.8283\n",
      "Epoch 31/100\n",
      " - 24s - loss: 0.6708 - acc: 0.8150 - val_loss: 0.6251 - val_acc: 0.8269\n",
      "Epoch 32/100\n",
      " - 25s - loss: 0.6653 - acc: 0.8170 - val_loss: 0.6191 - val_acc: 0.8304\n",
      "Epoch 33/100\n",
      " - 24s - loss: 0.6586 - acc: 0.8184 - val_loss: 0.6139 - val_acc: 0.8308\n",
      "Epoch 34/100\n",
      " - 26s - loss: 0.6515 - acc: 0.8195 - val_loss: 0.6067 - val_acc: 0.8318\n",
      "Epoch 35/100\n",
      " - 25s - loss: 0.6445 - acc: 0.8206 - val_loss: 0.6000 - val_acc: 0.8326\n",
      "Epoch 36/100\n",
      " - 25s - loss: 0.6382 - acc: 0.8214 - val_loss: 0.5952 - val_acc: 0.8330\n",
      "Epoch 37/100\n",
      " - 29s - loss: 0.6333 - acc: 0.8222 - val_loss: 0.5904 - val_acc: 0.8354\n",
      "Epoch 38/100\n",
      " - 25s - loss: 0.6286 - acc: 0.8236 - val_loss: 0.5872 - val_acc: 0.8356\n",
      "Epoch 39/100\n",
      " - 23s - loss: 0.6250 - acc: 0.8243 - val_loss: 0.5831 - val_acc: 0.8357\n",
      "Epoch 40/100\n",
      " - 23s - loss: 0.6206 - acc: 0.8254 - val_loss: 0.5797 - val_acc: 0.8371\n",
      "Epoch 41/100\n",
      " - 27s - loss: 0.6173 - acc: 0.8258 - val_loss: 0.5765 - val_acc: 0.8375\n",
      "Epoch 42/100\n",
      " - 24s - loss: 0.6138 - acc: 0.8263 - val_loss: 0.5733 - val_acc: 0.8381\n",
      "Epoch 43/100\n",
      " - 24s - loss: 0.6101 - acc: 0.8267 - val_loss: 0.5711 - val_acc: 0.8388\n",
      "Epoch 44/100\n",
      " - 25s - loss: 0.6070 - acc: 0.8273 - val_loss: 0.5678 - val_acc: 0.8395\n",
      "Epoch 45/100\n",
      " - 24s - loss: 0.6032 - acc: 0.8280 - val_loss: 0.5644 - val_acc: 0.8396\n",
      "Epoch 46/100\n",
      " - 24s - loss: 0.6001 - acc: 0.8287 - val_loss: 0.5618 - val_acc: 0.8407\n",
      "Epoch 47/100\n",
      " - 24s - loss: 0.5972 - acc: 0.8293 - val_loss: 0.5587 - val_acc: 0.8412\n",
      "Epoch 48/100\n",
      " - 23s - loss: 0.5944 - acc: 0.8297 - val_loss: 0.5577 - val_acc: 0.8412\n",
      "Epoch 49/100\n",
      " - 24s - loss: 0.5921 - acc: 0.8301 - val_loss: 0.5533 - val_acc: 0.8428\n",
      "Epoch 50/100\n",
      " - 25s - loss: 0.5891 - acc: 0.8310 - val_loss: 0.5508 - val_acc: 0.8446\n",
      "Epoch 51/100\n",
      " - 24s - loss: 0.5861 - acc: 0.8319 - val_loss: 0.5482 - val_acc: 0.8440\n",
      "Epoch 52/100\n",
      " - 24s - loss: 0.5830 - acc: 0.8328 - val_loss: 0.5471 - val_acc: 0.8454\n",
      "Epoch 53/100\n",
      " - 28s - loss: 0.5807 - acc: 0.8334 - val_loss: 0.5438 - val_acc: 0.8461\n",
      "Epoch 54/100\n",
      " - 25s - loss: 0.5779 - acc: 0.8343 - val_loss: 0.5410 - val_acc: 0.8466\n",
      "Epoch 55/100\n",
      " - 25s - loss: 0.5750 - acc: 0.8354 - val_loss: 0.5391 - val_acc: 0.8471\n",
      "Epoch 56/100\n",
      " - 28s - loss: 0.5745 - acc: 0.8352 - val_loss: 0.5378 - val_acc: 0.8480\n",
      "Epoch 57/100\n",
      " - 26s - loss: 0.5710 - acc: 0.8364 - val_loss: 0.5345 - val_acc: 0.8480\n",
      "Epoch 58/100\n",
      " - 24s - loss: 0.5678 - acc: 0.8369 - val_loss: 0.5318 - val_acc: 0.8487\n",
      "Epoch 59/100\n",
      " - 25s - loss: 0.5653 - acc: 0.8376 - val_loss: 0.5296 - val_acc: 0.8494\n",
      "Epoch 60/100\n",
      " - 25s - loss: 0.5631 - acc: 0.8379 - val_loss: 0.5279 - val_acc: 0.8497\n",
      "Epoch 61/100\n",
      " - 24s - loss: 0.5613 - acc: 0.8386 - val_loss: 0.5257 - val_acc: 0.8505\n",
      "Epoch 62/100\n",
      " - 25s - loss: 0.5585 - acc: 0.8390 - val_loss: 0.5233 - val_acc: 0.8510\n",
      "Epoch 63/100\n",
      " - 25s - loss: 0.5558 - acc: 0.8398 - val_loss: 0.5206 - val_acc: 0.8513\n",
      "Epoch 64/100\n",
      " - 24s - loss: 0.5531 - acc: 0.8405 - val_loss: 0.5184 - val_acc: 0.8519\n",
      "Epoch 65/100\n",
      " - 24s - loss: 0.5510 - acc: 0.8411 - val_loss: 0.5172 - val_acc: 0.8523\n",
      "Epoch 66/100\n",
      " - 26s - loss: 0.5488 - acc: 0.8417 - val_loss: 0.5147 - val_acc: 0.8528\n",
      "Epoch 67/100\n",
      " - 24s - loss: 0.5460 - acc: 0.8426 - val_loss: 0.5117 - val_acc: 0.8535\n",
      "Epoch 68/100\n",
      " - 24s - loss: 0.5436 - acc: 0.8432 - val_loss: 0.5101 - val_acc: 0.8535\n",
      "Epoch 69/100\n",
      " - 24s - loss: 0.5418 - acc: 0.8439 - val_loss: 0.5080 - val_acc: 0.8545\n",
      "Epoch 70/100\n",
      " - 25s - loss: 0.5390 - acc: 0.8447 - val_loss: 0.5059 - val_acc: 0.8556\n",
      "Epoch 71/100\n",
      " - 27s - loss: 0.5366 - acc: 0.8456 - val_loss: 0.5032 - val_acc: 0.8559\n",
      "Epoch 72/100\n",
      " - 23s - loss: 0.5345 - acc: 0.8460 - val_loss: 0.5006 - val_acc: 0.8570\n",
      "Epoch 73/100\n",
      " - 24s - loss: 0.5317 - acc: 0.8468 - val_loss: 0.4988 - val_acc: 0.8579\n",
      "Epoch 74/100\n",
      " - 27s - loss: 0.5296 - acc: 0.8476 - val_loss: 0.4972 - val_acc: 0.8582\n",
      "Epoch 75/100\n",
      " - 24s - loss: 0.5276 - acc: 0.8482 - val_loss: 0.4952 - val_acc: 0.8588\n",
      "Epoch 76/100\n",
      " - 27s - loss: 0.5253 - acc: 0.8488 - val_loss: 0.4924 - val_acc: 0.8592\n",
      "Epoch 77/100\n",
      " - 27s - loss: 0.5232 - acc: 0.8494 - val_loss: 0.4914 - val_acc: 0.8596\n",
      "Epoch 78/100\n",
      " - 25s - loss: 0.5209 - acc: 0.8500 - val_loss: 0.4891 - val_acc: 0.8603\n",
      "Epoch 79/100\n",
      " - 24s - loss: 0.5189 - acc: 0.8509 - val_loss: 0.4880 - val_acc: 0.8603\n",
      "Epoch 80/100\n",
      " - 24s - loss: 0.5172 - acc: 0.8511 - val_loss: 0.4865 - val_acc: 0.8611\n",
      "Epoch 81/100\n",
      " - 25s - loss: 0.5150 - acc: 0.8518 - val_loss: 0.4850 - val_acc: 0.8615\n",
      "Epoch 82/100\n",
      " - 26s - loss: 0.5127 - acc: 0.8527 - val_loss: 0.4821 - val_acc: 0.8620\n",
      "Epoch 83/100\n",
      " - 26s - loss: 0.5099 - acc: 0.8533 - val_loss: 0.4805 - val_acc: 0.8625\n",
      "Epoch 84/100\n",
      " - 25s - loss: 0.5085 - acc: 0.8537 - val_loss: 0.4801 - val_acc: 0.8628\n",
      "Epoch 85/100\n",
      " - 23s - loss: 0.5066 - acc: 0.8544 - val_loss: 0.4772 - val_acc: 0.8635\n",
      "Epoch 86/100\n",
      " - 24s - loss: 0.5040 - acc: 0.8551 - val_loss: 0.4751 - val_acc: 0.8640\n",
      "Epoch 87/100\n",
      " - 25s - loss: 0.5020 - acc: 0.8559 - val_loss: 0.4743 - val_acc: 0.8643\n",
      "Epoch 88/100\n",
      " - 24s - loss: 0.5007 - acc: 0.8560 - val_loss: 0.4739 - val_acc: 0.8645\n",
      "Epoch 89/100\n",
      " - 26s - loss: 0.4989 - acc: 0.8566 - val_loss: 0.4717 - val_acc: 0.8655\n",
      "Epoch 90/100\n",
      " - 30s - loss: 0.4966 - acc: 0.8571 - val_loss: 0.4701 - val_acc: 0.8653\n",
      "Epoch 91/100\n",
      " - 25s - loss: 0.4943 - acc: 0.8577 - val_loss: 0.4678 - val_acc: 0.8663\n",
      "Epoch 92/100\n",
      " - 25s - loss: 0.4927 - acc: 0.8582 - val_loss: 0.4668 - val_acc: 0.8663\n",
      "Epoch 93/100\n",
      " - 25s - loss: 0.4908 - acc: 0.8587 - val_loss: 0.4661 - val_acc: 0.8666\n",
      "Epoch 94/100\n",
      " - 25s - loss: 0.4889 - acc: 0.8593 - val_loss: 0.4656 - val_acc: 0.8674\n",
      "Epoch 95/100\n",
      " - 27s - loss: 0.4869 - acc: 0.8596 - val_loss: 0.4619 - val_acc: 0.8681\n"
     ]
    },
    {
     "name": "stdout",
     "output_type": "stream",
     "text": [
      "Epoch 96/100\n",
      " - 26s - loss: 0.4848 - acc: 0.8604 - val_loss: 0.4609 - val_acc: 0.8680\n",
      "Epoch 97/100\n",
      " - 28s - loss: 0.4831 - acc: 0.8607 - val_loss: 0.4587 - val_acc: 0.8688\n",
      "Epoch 98/100\n",
      " - 27s - loss: 0.4810 - acc: 0.8615 - val_loss: 0.4577 - val_acc: 0.8696\n",
      "Epoch 99/100\n",
      " - 24s - loss: 0.4793 - acc: 0.8620 - val_loss: 0.4565 - val_acc: 0.8696\n",
      "Epoch 100/100\n",
      " - 24s - loss: 0.4776 - acc: 0.8626 - val_loss: 0.4554 - val_acc: 0.8701\n"
     ]
    },
    {
     "data": {
      "text/plain": [
       "<keras.callbacks.History at 0x7f264fb8e4a8>"
      ]
     },
     "execution_count": 71,
     "metadata": {},
     "output_type": "execute_result"
    }
   ],
   "source": [
    "# compile model\n",
    "model.compile(loss='categorical_crossentropy', optimizer='adam', metrics=['accuracy'])\n",
    "# fit model\n",
    "model.fit(X_training, y_training, epochs=100, verbose=2,validation_data=(X_val, y_val))"
   ]
  },
  {
   "cell_type": "code",
   "execution_count": 72,
   "metadata": {},
   "outputs": [],
   "source": [
    "model.save('../../../models/char_model.h5')"
   ]
  },
  {
   "cell_type": "code",
   "execution_count": 73,
   "metadata": {},
   "outputs": [
    {
     "name": "stdout",
     "output_type": "stream",
     "text": [
      "540/540 [==============================] - 3s 5ms/step\n"
     ]
    },
    {
     "data": {
      "text/plain": [
       "0.8681851810879178"
      ]
     },
     "execution_count": 73,
     "metadata": {},
     "output_type": "execute_result"
    }
   ],
   "source": [
    "score, acc = model.evaluate(X_test, y_test)\n",
    "acc"
   ]
  },
  {
   "cell_type": "code",
   "execution_count": null,
   "metadata": {},
   "outputs": [],
   "source": []
  },
  {
   "cell_type": "code",
   "execution_count": 26,
   "metadata": {},
   "outputs": [],
   "source": [
    "model = load_model('../../../models/char_model.h5')\n",
    "model2 = Sequential()\n",
    "model2.add(LSTM(38,batch_size = None,input_shape = (500,38,), return_sequences=True))\n",
    "model2.add(LSTM(100,weights=model.layers[1].get_weights()))"
   ]
  },
  {
   "cell_type": "code",
   "execution_count": 11,
   "metadata": {},
   "outputs": [],
   "source": [
    "def process_data(test):\n",
    "    texts = [s.lower() for s in test]\n",
    "    tk = Tokenizer(num_words=None, char_level=True, oov_token='UNK')\n",
    "    tk.fit_on_texts(texts)\n",
    "    alphabet = \"abcdefghijklmnopqrstuvwxyz0123456789\"\n",
    "    vocab_size = len(alphabet)+1\n",
    "    char_dict = {}\n",
    "    for i, char in enumerate(alphabet):\n",
    "        char_dict[char] = i + 1\n",
    "    tk.word_index = char_dict.copy()\n",
    "    tk.word_index[tk.oov_token] = max(char_dict.values()) + 1\n",
    "    sequences = tk.texts_to_sequences(test)\n",
    "    seq = pad_sequences(sequences, maxlen=max_len, padding='post')\n",
    "    t = to_categorical(seq)\n",
    "    return t"
   ]
  },
  {
   "cell_type": "code",
   "execution_count": 53,
   "metadata": {},
   "outputs": [
    {
     "data": {
      "text/plain": [
       "['follow my insta\\U0001f929 \\n@maddie_hosford',\n",
       " 'witty sarcasm and an amateur in a whole lot of trades\\n\\naspiring musician who loves good music']"
      ]
     },
     "execution_count": 53,
     "metadata": {},
     "output_type": "execute_result"
    }
   ],
   "source": [
    "temp_test = train_texts[:2]\n",
    "temp_test"
   ]
  },
  {
   "cell_type": "code",
   "execution_count": 54,
   "metadata": {},
   "outputs": [],
   "source": [
    "temp = process_data(temp_test)"
   ]
  },
  {
   "cell_type": "code",
   "execution_count": 55,
   "metadata": {},
   "outputs": [
    {
     "data": {
      "text/plain": [
       "0.99999994"
      ]
     },
     "execution_count": 55,
     "metadata": {},
     "output_type": "execute_result"
    }
   ],
   "source": [
    "f = model2.predict(temp)\n",
    "np.dot(f[0],f[1])/(np.linalg.norm(f[0])*np.linalg.norm(f[1])) #cos theta"
   ]
  },
  {
   "cell_type": "code",
   "execution_count": null,
   "metadata": {},
   "outputs": [],
   "source": []
  }
 ],
 "metadata": {
  "kernelspec": {
   "display_name": "Python 3",
   "language": "python",
   "name": "python3"
  },
  "language_info": {
   "codemirror_mode": {
    "name": "ipython",
    "version": 3
   },
   "file_extension": ".py",
   "mimetype": "text/x-python",
   "name": "python",
   "nbconvert_exporter": "python",
   "pygments_lexer": "ipython3",
   "version": "3.5.2"
  }
 },
 "nbformat": 4,
 "nbformat_minor": 2
}
